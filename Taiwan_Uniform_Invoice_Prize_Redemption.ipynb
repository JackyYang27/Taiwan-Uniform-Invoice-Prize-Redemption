{
  "nbformat": 4,
  "nbformat_minor": 0,
  "metadata": {
    "colab": {
      "provenance": []
    },
    "kernelspec": {
      "name": "python3",
      "display_name": "Python 3"
    },
    "language_info": {
      "name": "python"
    }
  },
  "cells": [
    {
      "cell_type": "code",
      "source": [
        "import requests\n",
        "from bs4 import BeautifulSoup\n",
        "import re\n",
        "\n",
        "def get_latest_period_and_url():\n",
        "    url = 'https://invoice.etax.nat.gov.tw/index.html'\n",
        "    web = requests.get(url)\n",
        "    web.encoding = 'utf-8'\n",
        "    soup = BeautifulSoup(web.text, 'html.parser')\n",
        "\n",
        "    # 抓最新一期期別字串\n",
        "    submenu = soup.select_one('ul.etw-submenu01 > li > a.etw-on')\n",
        "    latest_period = None\n",
        "    if submenu:\n",
        "        text = submenu.get_text(strip=True)\n",
        "        m = re.search(r'(\\d{3}年\\d{2}-\\d{2}月)', text)\n",
        "        if m:\n",
        "            latest_period = m.group(1)\n",
        "    latest_url = url\n",
        "\n",
        "    # 抓上一期網址和期別 (就是ul.etw-submenu01的第二個a標籤)\n",
        "    prev_a = soup.select_one('ul.etw-submenu01 > li:nth-child(2) > a')\n",
        "    prev_period = None\n",
        "    prev_url = None\n",
        "    if prev_a:\n",
        "        prev_period = prev_a.get_text(strip=True)\n",
        "        prev_url = 'https://invoice.etax.nat.gov.tw/' + prev_a['href']\n",
        "\n",
        "    return (latest_period, latest_url), (prev_period, prev_url)\n",
        "\n",
        "def get_invoice_numbers_by_url(url):\n",
        "    web = requests.get(url)\n",
        "    web.encoding = 'utf-8'\n",
        "    soup = BeautifulSoup(web.text, 'html.parser')\n",
        "    td = soup.find_all(class_='etw-tbiggest')\n",
        "    if len(td) < 5:\n",
        "        print(f\"抓取格式異常，頁面: {url}\")\n",
        "        return None\n",
        "    ns = td[0].get_text(strip=True)\n",
        "    n1 = td[1].get_text(strip=True)\n",
        "    n2 = []\n",
        "    for i in range(2, 5):\n",
        "        spans = td[i].find_all('span')\n",
        "        if len(spans) == 2:\n",
        "            number = spans[0].get_text(strip=True) + spans[1].get_text(strip=True)\n",
        "            n2.append(number)\n",
        "        else:\n",
        "            n2.append(td[i].get_text(strip=True))\n",
        "    return {\n",
        "        '特別獎': ns,\n",
        "        '特獎': n1,\n",
        "        '頭獎': n2\n",
        "    }\n",
        "\n",
        "# 使用範例\n",
        "(latest_period, latest_url), (prev_period, prev_url) = get_latest_period_and_url()\n",
        "\n",
        "print(f\"最新期別：{latest_period}，網址：{latest_url}\")\n",
        "latest_data = get_invoice_numbers_by_url(latest_url)\n",
        "if latest_data:\n",
        "    print(\"最新期別中獎號碼：\")\n",
        "    print(\"特別獎：\", latest_data['特別獎'])\n",
        "    print(\"特獎：\", latest_data['特獎'])\n",
        "    print(\"頭獎：\", \", \".join(latest_data['頭獎']))\n",
        "\n",
        "print()\n",
        "\n",
        "print(f\"上一期期別：{prev_period}，網址：{prev_url}\")\n",
        "prev_data = get_invoice_numbers_by_url(prev_url)\n",
        "if prev_data:\n",
        "    print(\"上一期中獎號碼：\")\n",
        "    print(\"特別獎：\", prev_data['特別獎'])\n",
        "    print(\"特獎：\", prev_data['特獎'])\n",
        "    print(\"頭獎：\", \", \".join(prev_data['頭獎']))\n",
        "\n"
      ],
      "metadata": {
        "colab": {
          "base_uri": "https://localhost:8080/"
        },
        "id": "boLbaA6R641I",
        "outputId": "e0eb057c-3fe8-4e16-f03d-5796651ede17"
      },
      "execution_count": 6,
      "outputs": [
        {
          "output_type": "stream",
          "name": "stdout",
          "text": [
            "最新期別：114年03-04月，網址：https://invoice.etax.nat.gov.tw/index.html\n",
            "最新期別中獎號碼：\n",
            "特別獎： 64557267\n",
            "特獎： 64808075\n",
            "頭獎： 04322277, 07903676, 98883497\n",
            "\n",
            "上一期期別：114年01-02月中獎號碼單，網址：https://invoice.etax.nat.gov.tw/lastNumber.html\n",
            "上一期中獎號碼：\n",
            "特別獎： 95980685\n",
            "特獎： 37166026\n",
            "頭獎： 78394633, 26503878, 39200954\n"
          ]
        }
      ]
    }
  ]
}